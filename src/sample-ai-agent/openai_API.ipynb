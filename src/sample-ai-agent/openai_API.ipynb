{
  "cells": [
    {
      "cell_type": "markdown",
      "metadata": {
        "id": "view-in-github",
        "colab_type": "text"
      },
      "source": [
        "<a href=\"https://colab.research.google.com/github/wanghaiy2018/AC0499_2024/blob/main/Code/ai_agent/openai_API.ipynb\" target=\"_parent\"><img src=\"https://colab.research.google.com/assets/colab-badge.svg\" alt=\"Open In Colab\"/></a>"
      ]
    },
    {
      "cell_type": "markdown",
      "metadata": {
        "id": "qznzZsXcH5DA"
      },
      "source": [
        "Accessing and Using Your OpenAI API Key  Gain an OpenAI API Key:\n",
        "\n",
        "1.\tTo do this head to the OpenAI API Dashboard and create/login to an account. (https://platform.openai.com/assistants).\n",
        "2.\tAfter logging into an account, on the left side of the dashboard select ‘API Keys’.\n",
        "3.\tNext, click ‘Create new secret key’ in the top right corner of the page, from here you can create a name for your key, the project it is used for (if you have multiple keys and projects), and decide the permissions.\n",
        "4.\tAfter deciding the settings for your key, click ‘Create secret key’ in the bottom right of the menu.\n",
        "5.\tThis will show your given key, make sure to copy your key and save it in a place of your choosing for later. This will be the only time you can access it. Afterwords, select ‘Done.’\n"
      ]
    },
    {
      "cell_type": "code",
      "execution_count": null,
      "metadata": {
        "id": "5KrHaPBeICuX"
      },
      "outputs": [],
      "source": [
        "import os\n",
        "from openai import OpenAI\n",
        "\n",
        "# Your actual OpenAI API key\n",
        "api_key = \"sk-proj-4_******3zFwhoA\"\n",
        "\n",
        "# Set the environment variable for the current process\n",
        "os.environ[\"OPENAI_API_KEY\"] = api_key\n",
        "\n",
        "# Print the environment variable\n",
        "print(os.environ.get(\"OPENAI_API_KEY\"))\n",
        "\n",
        "client = OpenAI(\n",
        "\t    api_key = os.environ.get(\"OPENAI_API_KEY\"),\n",
        "\t)\n",
        "\n",
        "completion = client.chat.completions.create(\n",
        "\t    model=\"gpt-3.5-turbo\",\n",
        "\t    messages=[\n",
        "\t        {\"role\": \"system\", \"content\": \"You are a helpful assistant.\"},\n",
        "\t        {\n",
        "\t            \"role\": \"user\",\n",
        "\t            \"content\": \"Write a haiku about recursion in programming.\"\n",
        "\t        }\n",
        "\t    ]\n",
        "\n",
        "    )\n",
        "print(completion.choices[0].message)"
      ]
    }
  ],
  "metadata": {
    "colab": {
      "provenance": [],
      "include_colab_link": true
    },
    "kernelspec": {
      "display_name": "Python 3 (ipykernel)",
      "language": "python",
      "name": "python3"
    },
    "language_info": {
      "codemirror_mode": {
        "name": "ipython",
        "version": 3
      },
      "file_extension": ".py",
      "mimetype": "text/x-python",
      "name": "python",
      "nbconvert_exporter": "python",
      "pygments_lexer": "ipython3",
      "version": "3.12.4"
    }
  },
  "nbformat": 4,
  "nbformat_minor": 0
}

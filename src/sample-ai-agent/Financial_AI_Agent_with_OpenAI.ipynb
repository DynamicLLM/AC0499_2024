{
  "cells": [
    {
      "cell_type": "markdown",
      "metadata": {
        "id": "view-in-github",
        "colab_type": "text"
      },
      "source": [
        "<a href=\"https://colab.research.google.com/github/DynamicLLM/LLM2024/blob/main/src/sample-ai-agent/Financial_AI_Agent_with_OpenAI.ipynb\" target=\"_parent\"><img src=\"https://colab.research.google.com/assets/colab-badge.svg\" alt=\"Open In Colab\"/></a>"
      ]
    },
    {
      "cell_type": "markdown",
      "id": "9a01cea8",
      "metadata": {
        "id": "9a01cea8"
      },
      "source": [
        "\n",
        "# Simplified Financial AI Agent\n",
        "\n",
        "This notebook demonstrates how to use the OpenAI API and Yahoo Finance data to analyze financial trends, generate insights, and fetch relevant news articles.\n",
        "\n",
        "## Key Features:\n",
        "1. **Analyze Financial Data**: Use OpenAI to interpret and generate insights based on financial queries.\n",
        "2. **Fetch Yahoo Finance Data**: Extract stock prices, changes, and volumes from Yahoo Finance.\n",
        "3. **Stock Trend Analysis**: Combine Yahoo Finance data and OpenAI to analyze stock trends and suggest investment strategies.\n",
        "4. **Fetch Yahoo News Articles**: Retrieve relevant news articles for a specific financial topic.\n",
        "    "
      ]
    },
    {
      "cell_type": "code",
      "execution_count": 1,
      "id": "c0968e6b",
      "metadata": {
        "id": "c0968e6b"
      },
      "outputs": [],
      "source": [
        "\n",
        "# Install necessary libraries\n",
        "!pip install openai beautifulsoup4 requests -q\n",
        ""
      ]
    },
    {
      "cell_type": "code",
      "execution_count": 2,
      "id": "e8b847f2",
      "metadata": {
        "id": "e8b847f2"
      },
      "outputs": [],
      "source": [
        "\n",
        "# Import required modules\n",
        "from openai import OpenAI\n",
        "import requests\n",
        "from bs4 import BeautifulSoup\n",
        "\n",
        "# Set up the OpenAI client\n",
        "client = OpenAI(\n",
        "    api_key=\"sk-****wA\"\n",
        ")\n",
        ""
      ]
    },
    {
      "cell_type": "code",
      "execution_count": 7,
      "id": "4a0a3d42",
      "metadata": {
        "id": "4a0a3d42"
      },
      "outputs": [],
      "source": [
        "\n",
        "def analyze_financial_data_with_openai(prompt):\n",
        "    \"\"\"\n",
        "    Use OpenAI to analyze financial data or answer financial questions.\n",
        "    Args:\n",
        "        prompt (str): The financial-related query or analysis prompt.\n",
        "\n",
        "    Returns:\n",
        "        str: Response from OpenAI's API.\n",
        "    \"\"\"\n",
        "    try:\n",
        "        completion = client.chat.completions.create(\n",
        "            model=\"gpt-4o-mini\",\n",
        "            store=True,\n",
        "            messages=[\n",
        "                {\"role\": \"user\", \"content\": prompt}\n",
        "            ]\n",
        "        )\n",
        "        return completion.choices[0].message.content\n",
        "    except Exception as e:\n",
        "        return f\"An error occurred: {e}\"\n",
        "\n",
        ""
      ]
    },
    {
      "cell_type": "code",
      "execution_count": 8,
      "id": "0bd45588",
      "metadata": {
        "id": "0bd45588"
      },
      "outputs": [],
      "source": [
        "\n",
        "# Function to fetch Yahoo Finance stock data\n",
        "def fetch_yahoo_finance_data(ticker):\n",
        "    \"\"\"\n",
        "    Fetch basic stock data from Yahoo Finance for a given ticker.\n",
        "    Args:\n",
        "        ticker (str): Stock ticker symbol.\n",
        "\n",
        "    Returns:\n",
        "        dict: Stock data including price, change, and volume.\n",
        "    \"\"\"\n",
        "    base_url = f\"https://finance.yahoo.com/quote/{ticker}\"\n",
        "    try:\n",
        "        response = requests.get(base_url)\n",
        "        response.raise_for_status()\n",
        "        soup = BeautifulSoup(response.text, \"html.parser\")\n",
        "        price = soup.find(\"fin-streamer\", {\"data-field\": \"regularMarketPrice\"})\n",
        "        change = soup.find(\"fin-streamer\", {\"data-field\": \"regularMarketChange\"})\n",
        "        volume = soup.find(\"td\", {\"data-test\": \"TD_VOLUME-value\"})\n",
        "        return {\n",
        "            \"price\": price.text if price else \"N/A\",\n",
        "            \"change\": change.text if change else \"N/A\",\n",
        "            \"volume\": volume.text if volume else \"N/A\"\n",
        "        }\n",
        "    except Exception as e:\n",
        "        return {\"error\": f\"An error occurred while fetching data: {e}\"}\n",
        ""
      ]
    },
    {
      "cell_type": "code",
      "execution_count": 9,
      "id": "e87db6df",
      "metadata": {
        "id": "e87db6df"
      },
      "outputs": [],
      "source": [
        "\n",
        "# Function to perform stock trend analysis\n",
        "def analyze_stock_trends_with_openai(ticker):\n",
        "    \"\"\"\n",
        "    Analyze recent trends of a stock using OpenAI.\n",
        "    Args:\n",
        "        ticker (str): Stock ticker symbol.\n",
        "\n",
        "    Returns:\n",
        "        str: Analysis from OpenAI.\n",
        "    \"\"\"\n",
        "    data = fetch_yahoo_finance_data(ticker)\n",
        "    if \"error\" in data:\n",
        "        return data[\"error\"]\n",
        "\n",
        "    prompt = (\n",
        "        f\"Analyze the stock data for {ticker}. Current price: {data['price']}, \"\n",
        "        f\"Change: {data['change']}, Volume: {data['volume']}. \"\n",
        "        \"Provide insights and suggest an investment strategy.\"\n",
        "    )\n",
        "    return analyze_financial_data_with_openai(prompt)\n",
        ""
      ]
    },
    {
      "cell_type": "code",
      "execution_count": 10,
      "id": "17031ef6",
      "metadata": {
        "colab": {
          "base_uri": "https://localhost:8080/"
        },
        "id": "17031ef6",
        "outputId": "9d6ec326-2a3a-4e75-bcc4-d0a4c1ec6baf"
      },
      "outputs": [
        {
          "output_type": "stream",
          "name": "stdout",
          "text": [
            "AI Analysis: Rising interest rates can have several implications for the stock market, both in the short term and long term. Here are some of the key effects:\n",
            "\n",
            "1. **Higher Borrowing Costs**: As interest rates rise, the cost of borrowing increases for both consumers and corporations. Higher borrowing costs can lead to reduced consumer spending and business investment, which may negatively impact corporate earnings and, in turn, stock prices.\n",
            "\n",
            "2. **Discounted Cash Flows**: Stock valuations are often derived from the present value of future cash flows. Higher interest rates increase the discount rate used in these calculations, which can lead to lower present values for stocks. Growth stocks, in particular, can be more sensitive to interest rate changes since they tend to rely heavily on future earnings growth.\n",
            "\n",
            "3. **Sector Rotation**: Rising interest rates can lead to a rotation out of certain sectors of the stock market. For instance, interest-sensitive sectors like utilities and real estate may underperform, while financial institutions may benefit from higher rates due to improved net interest margins.\n",
            "\n",
            "4. **Impact on Consumer Behavior**: Higher interest rates can lead to reduced disposable income for consumers as mortgage and loan payments increase. This can impact consumer-dependent sectors such as retail and discretionary spending, potentially resulting in lower sales and profits for companies in these areas.\n",
            "\n",
            "5. **Increased Volatility**: Financial markets may experience increased volatility during periods of rising interest rates as investors adjust their portfolios to reflect the changing economic environment and reassess risk and return profiles.\n",
            "\n",
            "6. **Inflation Pressures**: Interest rates often rise to combat inflation. If inflation remains high, even with rising rates, real purchasing power can be eroded. Investors may become concerned about the economic outlook, which can weigh on sentiment and stock prices.\n",
            "\n",
            "7. **Global Capital Flows**: Changes in interest rates can also impact currency values and global capital flows. Higher rates in one country might attract foreign investment, leading to currency appreciation and affecting multinational corporations' earnings.\n",
            "\n",
            "8. **Potential Slowdown of Economic Growth**: While rising interest rates can indicate a strong economy, if rates rise too quickly, they can lead to an economic slowdown. This slowdown can negatively affect corporate profits and stock prices.\n",
            "\n",
            "Overall, the implications of rising interest rates on the stock market are multifaceted and can vary based on the broader economic context, investor sentiment, and the pace at which rates are increased. Investors often recalibrate their expectations and strategies in response to changing interest rate environments.\n",
            "AAPL Analysis by OpenAI: To analyze the stock data for Apple Inc. (AAPL), let's consider the current price and change, while also applying some general investment strategies.\n",
            "\n",
            "### Stock Data Overview\n",
            "- **Current Price**: $247.67\n",
            "- **Change**: -2.75 (indicating a decrease in price, likely around -1.1% for the day if considering the rounded nature of stock prices)\n",
            "\n",
            "### Insights\n",
            "1. **Price Movement**: A decrease of 2.75 in AAPL's stock indicates downward pressure, which could stem from a variety of factors, such as market sentiment, news affecting the tech sector, or broader economic indicators.\n",
            "\n",
            "2. **Market Sentiment**: The decline in price might suggest some negative sentiment in the market, but it's essential to consider whether this is part of a larger trend or simply short-term volatility. \n",
            "\n",
            "3. **Trading Volume**: Although volume is unspecified, low volume during a price decline might suggest that the sell-off is not based on strong conviction, which could indicate a potential opportunity to buy if fundamentals remain strong.\n",
            "\n",
            "4. **Technical Indicators**: Without specific volume data or historical price data, we can't conduct a full technical analysis. However, if AAPL typically finds support at certain price levels, monitoring those levels can inform decisions.\n",
            "\n",
            "5. **Fundamental Analysis**: It’s vital to consider the overall financial health of Apple—evaluate earnings reports, revenue growth, product performance, and market conditions within the tech industry.\n",
            "\n",
            "### Investment Strategy Suggestions\n",
            "\n",
            "1. **Long-Term Investment**: If you're optimistic about AAPL's long-term growth, consider this a dip opportunity. Historically, Apple has shown resilience and growth over time, making it a suitable choice for long-term investors.\n",
            "\n",
            "2. **Buy the Dip**: If market conditions are favorable and AAPL fundamentals remain strong, purchasing shares during the downturn could yield substantial returns once the stock rebounds.\n",
            "\n",
            "3. **Wait for Confirmation**: If you prefer a more cautious approach, wait for stabilization or a reversal in the stock price before entering a position. Look for signs of a bounce back or a return to higher trading volumes.\n",
            "\n",
            "4. **Setting Stop-Loss Orders**: If you decide to buy, consider implementing stop-loss orders to mitigate risks in case the stock continues to fall. This can help protect your investment in a volatile market.\n",
            "\n",
            "5. **Diversification**: Ensure that investments in AAPL fit into a diversified portfolio to manage risk. Don't concentrate too much capital in single stocks, especially in tech, which can be volatile.\n",
            "\n",
            "6. **Dollar-Cost Averaging**: If unsure about the timing, consider dollar-cost averaging into your position. This strategy involves investing a fixed amount regularly, reducing the impact of volatility.\n",
            "\n",
            "### Conclusion\n",
            "AAPL's current decline presents both risks and opportunities. Careful consideration of market factors, adherence to personal investment goals, and sound risk management practices will be key. Monitor any developments regarding market sentiment or company-specific news closely, as they can greatly affect stock performance moving forward.\n"
          ]
        }
      ],
      "source": [
        "\n",
        "# Example usage: Analyze financial data\n",
        "financial_query = \"What are the implications of rising interest rates on the stock market?\"\n",
        "ai_response = analyze_financial_data_with_openai(financial_query)\n",
        "print(\"AI Analysis:\", ai_response)\n",
        "\n",
        "# Analyze stock trends for AAPL using OpenAI\n",
        "aapl_analysis = analyze_stock_trends_with_openai(\"AAPL\")\n",
        "print(\"AAPL Analysis by OpenAI:\", aapl_analysis)\n",
        ""
      ]
    },
    {
      "cell_type": "code",
      "execution_count": 11,
      "id": "ea6b7d8f",
      "metadata": {
        "colab": {
          "base_uri": "https://localhost:8080/"
        },
        "id": "ea6b7d8f",
        "outputId": "b1ef1a55-b308-4579-e1b2-8b107267873c"
      },
      "outputs": [
        {
          "output_type": "stream",
          "name": "stdout",
          "text": [
            "Yahoo News Articles:\n",
            "- Microsoft's Stargate Supercomputer Is an Inevitable Product of the AI Arms Race (https://finance.yahoo.com/news/microsofts-stargate-supercomputer-inevitable-product-151538470.html?fr=sycsrp_catchall)\n",
            "- Is Boise Cascade Company (BCC) the Best Lumber Stock to Buy Right Now? (https://finance.yahoo.com/news/boise-cascade-company-bcc-best-151519319.html?fr=sycsrp_catchall)\n",
            "- Q3 Earnings Review: Beverages, Alcohol, and Tobacco Stocks Led by Zevia... (https://finance.yahoo.com/news/q3-earnings-review-beverages-alcohol-090157967.html?fr=sycsrp_catchall)\n",
            "- ZenaTech Inc (ZENA) Stock: A Guide to the Market Trend – News Heater (https://newsheater.com/2025/01/02/zenatech-inc-zena-stock-a-guide-to-the-market-trend/)\n",
            "- I’m a Financial Advisor: I’d Invest My First $5,000 in These 6 Stocks (https://finance.yahoo.com/news/m-financial-advisor-d-invest-150041485.html?fr=sycsrp_catchall)\n",
            "- 10 Stock Market Predictions for 2025 (https://finance.yahoo.com/news/10-stock-market-predictions-2025-100600885.html?fr=sycsrp_catchall)\n",
            "- 3 Reasons to Buy Kraft Heinz Stock Like There's No Tomorrow (https://finance.yahoo.com/news/3-reasons-buy-kraft-heinz-143000790.html?fr=sycsrp_catchall)\n",
            "- 5 Things to Know Before the Stock Market Opens (https://finance.yahoo.com/news/5-things-know-stock-market-131007348.html?fr=sycsrp_catchall)\n",
            "- Most Gulf markets in red; Saudi gains (https://www.reuters.com/world/middle-east/most-gulf-markets-red-saudi-gains-2025-01-02/)\n",
            "- Exploring High Growth Tech Stocks With Promising Potential (https://finance.yahoo.com/news/exploring-high-growth-tech-stocks-100709320.html?fr=sycsrp_catchall)\n"
          ]
        }
      ],
      "source": [
        "\n",
        "# Fetch Yahoo News Articles\n",
        "def fetch_yahoo_news(topic):\n",
        "    \"\"\"\n",
        "    Fetch news articles from Yahoo related to the given topic.\n",
        "    Args:\n",
        "        topic (str): The topic to search for news.\n",
        "\n",
        "    Returns:\n",
        "        list: A list of dictionaries containing title and link of news articles.\n",
        "    \"\"\"\n",
        "    base_url = \"https://news.search.yahoo.com/search\"\n",
        "    params = {\"p\": topic, \"fr\": \"news\"}\n",
        "    try:\n",
        "        response = requests.get(base_url, params=params)\n",
        "        response.raise_for_status()\n",
        "        soup = BeautifulSoup(response.text, \"html.parser\")\n",
        "        articles = []\n",
        "        for item in soup.find_all(\"div\", class_=\"NewsArticle\"):\n",
        "            title = item.find(\"h4\").text if item.find(\"h4\") else \"No Title\"\n",
        "            link = item.find(\"a\")[\"href\"] if item.find(\"a\") else \"No Link\"\n",
        "            articles.append({\"title\": title, \"link\": link})\n",
        "        return articles\n",
        "    except Exception as e:\n",
        "        return [f\"An error occurred while fetching news: {e}\"]\n",
        "\n",
        "news_topic = \"Stock Market Trends\"\n",
        "news_articles = fetch_yahoo_news(news_topic)\n",
        "print(\"Yahoo News Articles:\")\n",
        "for article in news_articles:\n",
        "    print(f\"- {article['title']} ({article['link']})\")\n",
        ""
      ]
    }
  ],
  "metadata": {
    "colab": {
      "provenance": [],
      "include_colab_link": true
    },
    "language_info": {
      "name": "python"
    },
    "kernelspec": {
      "name": "python3",
      "display_name": "Python 3"
    }
  },
  "nbformat": 4,
  "nbformat_minor": 5
}
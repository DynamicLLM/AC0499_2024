{
  "cells": [
    {
      "cell_type": "markdown",
      "metadata": {
        "id": "view-in-github",
        "colab_type": "text"
      },
      "source": [
        "<a href=\"https://colab.research.google.com/github/DynamicLLM/LLM2024/blob/main/src/sample-ai-agent/weather_openai_demo.ipynb\" target=\"_parent\"><img src=\"https://colab.research.google.com/assets/colab-badge.svg\" alt=\"Open In Colab\"/></a>"
      ]
    },
    {
      "cell_type": "markdown",
      "id": "b72c78ee",
      "metadata": {
        "id": "b72c78ee"
      },
      "source": [
        "# Weather and OpenAI Integration\n",
        "\n",
        "This notebook demonstrates the integration of the Open-Meteo API for fetching weather data\n",
        "and the OpenAI API for conversational interactions. Additionally, we'll demonstrate how\n",
        "OpenAI can enhance the experience by interpreting weather data, answering questions,\n",
        "and providing suggestions based on user inputs."
      ]
    },
    {
      "cell_type": "markdown",
      "id": "6181b708",
      "metadata": {
        "id": "6181b708"
      },
      "source": [
        "## Fetch Weather Data from Open-Meteo API\n",
        "\n",
        "The Open-Meteo API provides weather data for any geographical location based on latitude and longitude.\n",
        "This example fetches current weather data."
      ]
    },
    {
      "cell_type": "code",
      "execution_count": 1,
      "id": "d2552ad6",
      "metadata": {
        "id": "d2552ad6"
      },
      "outputs": [],
      "source": [
        "import requests\n",
        "\n",
        "def fetch_weather(latitude, longitude):\n",
        "    \"\"\"Fetches weather data from Open-Meteo API.\"\"\"\n",
        "    weather_url = f\"https://api.open-meteo.com/v1/forecast?latitude={latitude}&longitude={longitude}&current_weather=true\"\n",
        "    try:\n",
        "        response = requests.get(weather_url)\n",
        "        data = response.json()\n",
        "        if 'current_weather' in data:\n",
        "            weather = data['current_weather']\n",
        "            return weather\n",
        "        else:\n",
        "            return {\"error\": \"Could not fetch weather data.\"}\n",
        "    except Exception as e:\n",
        "        return {\"error\": str(e)}"
      ]
    },
    {
      "cell_type": "markdown",
      "id": "78aeb9b9",
      "metadata": {
        "id": "78aeb9b9"
      },
      "source": [
        "## Interact with OpenAI API\n",
        "\n",
        "Using OpenAI's GPT model, this function demonstrates how to send a prompt and receive a response.\n",
        "Ensure you replace `YOUR_OPENAI_API_KEY` with your valid OpenAI API key."
      ]
    },
    {
      "cell_type": "code",
      "execution_count": 2,
      "id": "d05d286d",
      "metadata": {
        "id": "d05d286d"
      },
      "outputs": [],
      "source": [
        "def interact_with_openai(prompt):\n",
        "    \"\"\"Sends a prompt to OpenAI API and returns the response.\"\"\"\n",
        "    api_key = \"sk-proj-****A\"\n",
        "    # Replace with your OpenAI API key\n",
        "    openai_url = \"https://api.openai.com/v1/chat/completions\"\n",
        "    headers = {\n",
        "        \"Content-Type\": \"application/json\",\n",
        "        \"Authorization\": f\"Bearer {api_key}\"\n",
        "    }\n",
        "    payload = {\n",
        "        \"model\": \"gpt-3.5-turbo\",\n",
        "        \"messages\": [\n",
        "            {\"role\": \"user\", \"content\": prompt}\n",
        "        ]\n",
        "    }\n",
        "    try:\n",
        "        response = requests.post(openai_url, headers=headers, json=payload)\n",
        "        data = response.json()\n",
        "        if 'choices' in data and data['choices'][0]['message']:\n",
        "            return data['choices'][0]['message']['content']\n",
        "        else:\n",
        "            return \"Could not fetch response from OpenAI.\"\n",
        "    except Exception as e:\n",
        "        return f\"Error interacting with OpenAI: {e}\""
      ]
    },
    {
      "cell_type": "markdown",
      "id": "eb79a004",
      "metadata": {
        "id": "eb79a004"
      },
      "source": [
        "## Using OpenAI for Enhanced Weather Interpretation\n",
        "\n",
        "OpenAI can provide natural language interpretations of the weather data, suggest activities,\n",
        "or answer user questions based on weather conditions."
      ]
    },
    {
      "cell_type": "code",
      "execution_count": 3,
      "id": "28ad565e",
      "metadata": {
        "id": "28ad565e"
      },
      "outputs": [],
      "source": [
        "def interpret_weather_with_openai(weather_data):\n",
        "    \"\"\"Uses OpenAI to provide an interpretation of weather data.\"\"\"\n",
        "    if \"error\" in weather_data:\n",
        "        return weather_data[\"error\"]\n",
        "\n",
        "    temperature = weather_data[\"temperature\"]\n",
        "    weather_code = weather_data[\"weathercode\"]\n",
        "\n",
        "    prompt = (\n",
        "        f\"The current temperature is {temperature}°C and the weather code is {weather_code}. \"\n",
        "        \"Explain what this means in layman's terms and suggest appropriate activities.\"\n",
        "    )\n",
        "\n",
        "    return interact_with_openai(prompt)"
      ]
    },
    {
      "cell_type": "markdown",
      "id": "e0eda3d0",
      "metadata": {
        "id": "e0eda3d0"
      },
      "source": [
        "## Usage Examples\n",
        "\n",
        "Below are example usages of the weather fetching and OpenAI interaction functions.\n",
        "Adjust the latitude, longitude, and user input as needed."
      ]
    },
    {
      "cell_type": "code",
      "execution_count": 4,
      "id": "6b2c129f",
      "metadata": {
        "colab": {
          "base_uri": "https://localhost:8080/",
          "height": 543
        },
        "id": "6b2c129f",
        "outputId": "729d2f30-c97f-4d56-e3ef-0d9561d7d074"
      },
      "outputs": [
        {
          "output_type": "display_data",
          "data": {
            "text/plain": [
              "<IPython.core.display.Markdown object>"
            ],
            "text/markdown": "### Weather Data"
          },
          "metadata": {}
        },
        {
          "output_type": "display_data",
          "data": {
            "text/plain": [
              "<IPython.core.display.Markdown object>"
            ],
            "text/markdown": "**Raw Weather Data:** {'time': '2025-01-02T14:30', 'interval': 900, 'temperature': 3.1, 'windspeed': 28.6, 'winddirection': 251, 'is_day': 1, 'weathercode': 0}"
          },
          "metadata": {}
        },
        {
          "output_type": "display_data",
          "data": {
            "text/plain": [
              "<IPython.core.display.Markdown object>"
            ],
            "text/markdown": "### OpenAI Interpretation"
          },
          "metadata": {}
        },
        {
          "output_type": "display_data",
          "data": {
            "text/plain": [
              "<IPython.core.display.Markdown object>"
            ],
            "text/markdown": "**OpenAI Response:** A temperature of 3.1°C means that it is quite cold outside. The weather code of 0 indicates clear skies and calm weather conditions.\n\nFor activities, you could consider:\n\n1. Taking a peaceful walk outside to enjoy the clear skies and fresh air.\n2. Going for a run or bike ride to get some exercise while being mindful of the cold temperature.\n3. Having a hot drink outdoors, like hot chocolate or tea, to enjoy the crisp weather.\n4. Stargazing in the evening, as clear skies make for great visibility of the stars.\n5. Dressing warmly and going for a hike to take in the winter scenery.\n\nJust remember to dress appropriately for the cold weather and stay safe while participating in any outdoor activities."
          },
          "metadata": {}
        },
        {
          "output_type": "display_data",
          "data": {
            "text/plain": [
              "<IPython.core.display.Markdown object>"
            ],
            "text/markdown": "### OpenAI General Interaction"
          },
          "metadata": {}
        },
        {
          "output_type": "display_data",
          "data": {
            "text/plain": [
              "<IPython.core.display.Markdown object>"
            ],
            "text/markdown": "**OpenAI Response:** In cold weather, it's important to dress in layers to stay warm. Here are some suggestions for what to wear:\n\n1. Start with a base layer made of moisture-wicking fabric to keep sweat away from your skin and help you stay dry.\n2. Add a mid-layer, such as a fleece or sweater, to provide insulation and trap heat.\n3. Wear a waterproof and windproof outer layer, such as a jacket or coat, to protect against the elements.\n4. Don't forget to wear warm accessories, such as gloves, hats, scarves, and socks, to keep extremities warm.\n5. Choose insulated and waterproof boots to keep your feet warm and dry.\n6. Consider wearing thermal underwear and outerwear for extra warmth in extremely cold temperatures.\n7. Remember to dress in loose layers to allow for better air circulation and to avoid sweating too much, which can make you cold.\n8. Opt for clothing made of wool, down, or synthetic materials, as they are good insulators and retain heat well.\n\nStay comfortable and safe in cold weather by dressing appropriately and being prepared for changing conditions."
          },
          "metadata": {}
        }
      ],
      "source": [
        "from IPython.display import display, Markdown\n",
        "\n",
        "def main():\n",
        "    # Fetch weather data\n",
        "    latitude = 40.7128  # Example: Latitude for New York\n",
        "    longitude = -74.0060  # Example: Longitude for New York\n",
        "\n",
        "    display(Markdown(\"### Weather Data\"))\n",
        "    weather_result = fetch_weather(latitude, longitude)\n",
        "    if \"error\" in weather_result:\n",
        "        display(Markdown(f\"**Error:** {weather_result['error']}\"))\n",
        "    else:\n",
        "        display(Markdown(f\"**Raw Weather Data:** {weather_result}\"))\n",
        "\n",
        "        # Interpret weather data using OpenAI\n",
        "        display(Markdown(\"### OpenAI Interpretation\"))\n",
        "        interpretation = interpret_weather_with_openai(weather_result)\n",
        "        display(Markdown(f\"**OpenAI Response:** {interpretation}\"))\n",
        "\n",
        "    # General OpenAI interaction example\n",
        "    user_input = \"What should I wear in cold weather?\"  # Example user input\n",
        "    display(Markdown(\"### OpenAI General Interaction\"))\n",
        "    openai_result = interact_with_openai(user_input)\n",
        "    display(Markdown(f\"**OpenAI Response:** {openai_result}\"))\n",
        "\n",
        "if __name__ == \"__main__\":\n",
        "    main()"
      ]
    }
  ],
  "metadata": {
    "colab": {
      "provenance": [],
      "include_colab_link": true
    },
    "language_info": {
      "name": "python"
    },
    "kernelspec": {
      "name": "python3",
      "display_name": "Python 3"
    }
  },
  "nbformat": 4,
  "nbformat_minor": 5
}
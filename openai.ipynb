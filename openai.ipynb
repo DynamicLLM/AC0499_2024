{
  "cells": [
    {
      "cell_type": "markdown",
      "metadata": {
        "id": "view-in-github",
        "colab_type": "text"
      },
      "source": [
        "<a href=\"https://colab.research.google.com/github/DynamicLLM/LLM2024/blob/main/openai.ipynb\" target=\"_parent\"><img src=\"https://colab.research.google.com/assets/colab-badge.svg\" alt=\"Open In Colab\"/></a>"
      ]
    },
    {
      "cell_type": "markdown",
      "metadata": {
        "id": "qznzZsXcH5DA"
      },
      "source": [
        "Accessing and Using Your OpenAI API Key  Gain an OpenAI API Key:\n",
        "\n",
        "1.\tTo do this head to the OpenAI API Dashboard and create/login to an account. (https://platform.openai.com/assistants).\n",
        "2.\tAfter logging into an account, on the left side of the dashboard select ‘API Keys’.\n",
        "3.\tNext, click ‘Create new secret key’ in the top right corner of the page, from here you can create a name for your key, the project it is used for (if you have multiple keys and projects), and decide the permissions.\n",
        "4.\tAfter deciding the settings for your key, click ‘Create secret key’ in the bottom right of the menu.\n",
        "5.\tThis will show your given key, make sure to copy your key and save it in a place of your choosing for later. This will be the only time you can access it. Afterwords, select ‘Done.’\n",
        "\n",
        "Setting your OpenAI API Key as an Environment Variable:\n",
        "\n",
        "1.\tAfter obtaining your API key, open the command prompt on your computer.\n",
        "2.\tRun the following command in the cmd prompt, replacing “<yourkey>” with your API key: setx OPENAI_API_KEY \"yourkey\"\n",
        "3.\tTo confirm the environment variable was set, run the following command in the cmd prompt, this should repeat your API key back to you: echo %OPENAI_API_KEY%\n",
        "4.\tAfter setting the environment variable you will have to restart your computer in order to use it.\n",
        "Testing if your API Key works:\n",
        "1.\tRun this code in python, it should access your environment variable and write a write a haiku about recursion in programming."
      ]
    },
    {
      "cell_type": "code",
      "execution_count": null,
      "metadata": {
        "id": "5KrHaPBeICuX"
      },
      "outputs": [],
      "source": [
        "# from your local computer, Colabe does not know your key.\n",
        "import os\n",
        "from openai import OpenAI\n",
        "\n",
        "client = OpenAI(\n",
        "\t    api_key = os.environ.get(\"OPENAI_API_KEY\"),\n",
        "\t)\n",
        "\n",
        "completion = client.chat.completions.create(\n",
        "\t    model=\"gpt-4o-mini\",\n",
        "\t    messages=[\n",
        "\t        {\"role\": \"system\", \"content\": \"You are a helpful assistant.\"},\n",
        "\t        {\n",
        "\t            \"role\": \"user\",\n",
        "\t            \"content\": \"Write a haiku about recursion in programming.\"\n",
        "\t        }\n",
        "\t    ]\n",
        "\n",
        "    )\n",
        "print(completion.choices[0].message)"
      ]
    },
    {
      "cell_type": "code",
      "source": [
        "# from Colab\n",
        "from openai import OpenAI\n",
        "\n",
        "client = OpenAI(\n",
        "  api_key=\"sk-proj-*****\"\n",
        ")\n",
        "\n",
        "completion = client.chat.completions.create(\n",
        "  model=\"gpt-4o-mini\",\n",
        "  store=True,\n",
        "  messages=[\n",
        "    {\"role\": \"user\", \"content\": \"Hi\"}\n",
        "  ]\n",
        ")\n",
        "\n",
        "print(completion.choices[0].message);"
      ],
      "metadata": {
        "colab": {
          "base_uri": "https://localhost:8080/"
        },
        "id": "wRaRO1aF9ot5",
        "outputId": "c9962395-ee19-45ef-fe7f-b29c656bb246"
      },
      "execution_count": null,
      "outputs": [
        {
          "output_type": "stream",
          "name": "stdout",
          "text": [
            "ChatCompletionMessage(content='Hello! How can I assist you today?', refusal=None, role='assistant', audio=None, function_call=None, tool_calls=None)\n"
          ]
        }
      ]
    }
  ],
  "metadata": {
    "colab": {
      "provenance": [],
      "include_colab_link": true
    },
    "kernelspec": {
      "display_name": "Python 3 (ipykernel)",
      "language": "python",
      "name": "python3"
    },
    "language_info": {
      "codemirror_mode": {
        "name": "ipython",
        "version": 3
      },
      "file_extension": ".py",
      "mimetype": "text/x-python",
      "name": "python",
      "nbconvert_exporter": "python",
      "pygments_lexer": "ipython3",
      "version": "3.12.4"
    }
  },
  "nbformat": 4,
  "nbformat_minor": 0
}
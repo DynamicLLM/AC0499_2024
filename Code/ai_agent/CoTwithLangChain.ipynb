{
 "cells": [
  {
   "cell_type": "code",
   "execution_count": null,
   "id": "c17a2cbf-9297-46ed-b655-a50258edd7a8",
   "metadata": {},
   "outputs": [
    {
     "name": "stdout",
     "output_type": "stream",
     "text": [
      "Breakdown Steps: Step 1: Identify the rate of travel. The car is traveling at 50 miles per hour.\n",
      "Step 2: Determine the time period over which the car traveled. The car traveled for 4 hours.\n",
      "Step 3: Multiply the rate by the time to find distance.\n",
      "Step 4: Calculate the product of 50 and 4, which equals 200 miles.\n",
      "\n",
      "Therefore, the car traveled 200 miles.\n"
     ]
    }
   ],
   "source": [
    "import requests\n",
    "import json\n",
    "\n",
    "# Class to interact with the Llama model server\n",
    "class LlamaLLM:\n",
    "    def __init__(self, url):\n",
    "        self.url = url\n",
    "        self.call_count = 0\n",
    "\n",
    "    def generate(self, prompt):\n",
    "        self.call_count += 1\n",
    "        payload = {\n",
    "            \"model\": \"llama3.1\",\n",
    "            \"prompt\": prompt,\n",
    "            \"stream\": False\n",
    "        }\n",
    "        headers = {\n",
    "            'Content-Type': 'application/json'\n",
    "        }\n",
    "        response = requests.post(self.url, headers=headers, data=json.dumps(payload))\n",
    "        response.raise_for_status()\n",
    "        return response.json()['response']\n",
    "\n",
    "\n",
    "from langchain import LLMChain, PromptTemplate\n",
    "\n",
    "# Initialize the Llama model with the server URL\n",
    "llm = LlamaLLM(url=\"http://localhost:11434/api/generate\")\n",
    "\n",
    "# Define a prompt template for breaking down the problem\n",
    "breakdown_template = PromptTemplate(\n",
    "    input_variables=[\"question\"],\n",
    "    template=\"Break down the following problem into step-by-step reasoning: {question}\"\n",
    ")\n",
    "\n",
    "# Define a prompt template for each step\n",
    "step_template = PromptTemplate(\n",
    "    input_variables=[\"step\"],\n",
    "    template=\"Explain the following step in detail: {step}\"\n",
    ")\n",
    "\n",
    "# Function to use LlamaLLM with LLMChain\n",
    "def run_llm_chain(prompt_template, llm, inputs):\n",
    "    prompt = prompt_template.format(**inputs)\n",
    "    response = llm.generate(prompt)\n",
    "    return response\n",
    "\n",
    "# Define the question\n",
    "question = \"How can I determine the distance traveled by a car if it travels at 50 miles per hour for 4 hours?\"\n",
    "\n",
    "# Run the breakdown chain\n",
    "breakdown_steps = run_llm_chain(breakdown_template, llm, {\"question\": question})\n",
    "print(\"Breakdown Steps:\", breakdown_steps)\n",
    "\n",
    "# Split the breakdown into individual steps\n",
    "steps = breakdown_steps.split(\"\\n\")\n",
    "\n",
    "# Run the step chain for each step\n",
    "for step in steps:\n",
    "    explanation = run_llm_chain(step_template, llm, {\"step\": step})\n",
    "    print(\"Step Explanation:\", explanation)\n"
   ]
  },
  {
   "cell_type": "code",
   "execution_count": null,
   "id": "423c0fe3-931d-46a2-a777-2d318fe25a34",
   "metadata": {},
   "outputs": [],
   "source": []
  }
 ],
 "metadata": {
  "kernelspec": {
   "display_name": "Python 3 (ipykernel)",
   "language": "python",
   "name": "python3"
  },
  "language_info": {
   "codemirror_mode": {
    "name": "ipython",
    "version": 3
   },
   "file_extension": ".py",
   "mimetype": "text/x-python",
   "name": "python",
   "nbconvert_exporter": "python",
   "pygments_lexer": "ipython3",
   "version": "3.12.4"
  }
 },
 "nbformat": 4,
 "nbformat_minor": 5
}
